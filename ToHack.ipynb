{
  "nbformat": 4,
  "nbformat_minor": 0,
  "metadata": {
    "colab": {
      "name": "ToHack.ipynb",
      "provenance": [],
      "collapsed_sections": []
    },
    "kernelspec": {
      "name": "python3",
      "display_name": "Python 3"
    },
    "language_info": {
      "name": "python"
    }
  },
  "cells": [
    {
      "cell_type": "code",
      "metadata": {
        "id": "Wxuf3QcSbAgY"
      },
      "source": [
        "import pickle\n",
        "import pandas as pd\n",
        "import seaborn as sn\n",
        "from sklearn.metrics import accuracy_score\n",
        "from sklearn.metrics import confusion_matrix\n",
        "from sklearn.preprocessing import StandardScaler\n",
        "from sklearn.ensemble import RandomForestClassifier\n",
        "from sklearn.model_selection import train_test_split"
      ],
      "execution_count": 91,
      "outputs": []
    },
    {
      "cell_type": "code",
      "metadata": {
        "id": "gCXPApwxjEoq"
      },
      "source": [
        "df = pd.read_csv(\"ToHacks_Dataset.csv\")"
      ],
      "execution_count": 67,
      "outputs": []
    },
    {
      "cell_type": "code",
      "metadata": {
        "colab": {
          "base_uri": "https://localhost:8080/",
          "height": 204
        },
        "id": "yw059osTjHel",
        "outputId": "0fba4cf4-4472-4a90-f589-ebe55c930ccf"
      },
      "source": [
        "df.head()"
      ],
      "execution_count": 68,
      "outputs": [
        {
          "output_type": "execute_result",
          "data": {
            "text/html": [
              "<div>\n",
              "<style scoped>\n",
              "    .dataframe tbody tr th:only-of-type {\n",
              "        vertical-align: middle;\n",
              "    }\n",
              "\n",
              "    .dataframe tbody tr th {\n",
              "        vertical-align: top;\n",
              "    }\n",
              "\n",
              "    .dataframe thead th {\n",
              "        text-align: right;\n",
              "    }\n",
              "</style>\n",
              "<table border=\"1\" class=\"dataframe\">\n",
              "  <thead>\n",
              "    <tr style=\"text-align: right;\">\n",
              "      <th></th>\n",
              "      <th>Latitude</th>\n",
              "      <th>Longitude</th>\n",
              "      <th>Date</th>\n",
              "      <th>OSM</th>\n",
              "      <th>Forest</th>\n",
              "      <th>Precipitation1</th>\n",
              "      <th>Precipitation2</th>\n",
              "      <th>Damage</th>\n",
              "      <th>Dams</th>\n",
              "      <th>Output_Label</th>\n",
              "    </tr>\n",
              "  </thead>\n",
              "  <tbody>\n",
              "    <tr>\n",
              "      <th>0</th>\n",
              "      <td>34.000</td>\n",
              "      <td>-81.0200</td>\n",
              "      <td>12/2009/25</td>\n",
              "      <td>1634</td>\n",
              "      <td>0</td>\n",
              "      <td>42.3</td>\n",
              "      <td>1.1</td>\n",
              "      <td>4000</td>\n",
              "      <td>19.272862</td>\n",
              "      <td>1</td>\n",
              "    </tr>\n",
              "    <tr>\n",
              "      <th>1</th>\n",
              "      <td>34.080</td>\n",
              "      <td>-81.1800</td>\n",
              "      <td>12/2009/25</td>\n",
              "      <td>629</td>\n",
              "      <td>0</td>\n",
              "      <td>39.3</td>\n",
              "      <td>1.1</td>\n",
              "      <td>8000</td>\n",
              "      <td>4.803233</td>\n",
              "      <td>1</td>\n",
              "    </tr>\n",
              "    <tr>\n",
              "      <th>2</th>\n",
              "      <td>34.095</td>\n",
              "      <td>-80.9706</td>\n",
              "      <td>12/2009/25</td>\n",
              "      <td>45</td>\n",
              "      <td>0</td>\n",
              "      <td>42.3</td>\n",
              "      <td>1.1</td>\n",
              "      <td>8000</td>\n",
              "      <td>23.426476</td>\n",
              "      <td>1</td>\n",
              "    </tr>\n",
              "    <tr>\n",
              "      <th>3</th>\n",
              "      <td>34.720</td>\n",
              "      <td>-80.7700</td>\n",
              "      <td>12/2009/25</td>\n",
              "      <td>13</td>\n",
              "      <td>0</td>\n",
              "      <td>23.3</td>\n",
              "      <td>0.5</td>\n",
              "      <td>10000</td>\n",
              "      <td>17.060388</td>\n",
              "      <td>1</td>\n",
              "    </tr>\n",
              "    <tr>\n",
              "      <th>4</th>\n",
              "      <td>34.720</td>\n",
              "      <td>-80.7700</td>\n",
              "      <td>12/2009/25</td>\n",
              "      <td>13</td>\n",
              "      <td>0</td>\n",
              "      <td>23.3</td>\n",
              "      <td>0.5</td>\n",
              "      <td>10000</td>\n",
              "      <td>17.060388</td>\n",
              "      <td>1</td>\n",
              "    </tr>\n",
              "  </tbody>\n",
              "</table>\n",
              "</div>"
            ],
            "text/plain": [
              "   Latitude  Longitude        Date  ...  Damage       Dams  Output_Label\n",
              "0    34.000   -81.0200  12/2009/25  ...    4000  19.272862             1\n",
              "1    34.080   -81.1800  12/2009/25  ...    8000   4.803233             1\n",
              "2    34.095   -80.9706  12/2009/25  ...    8000  23.426476             1\n",
              "3    34.720   -80.7700  12/2009/25  ...   10000  17.060388             1\n",
              "4    34.720   -80.7700  12/2009/25  ...   10000  17.060388             1\n",
              "\n",
              "[5 rows x 10 columns]"
            ]
          },
          "metadata": {
            "tags": []
          },
          "execution_count": 68
        }
      ]
    },
    {
      "cell_type": "code",
      "metadata": {
        "id": "2p6xUke1jnba"
      },
      "source": [
        "df = df.drop_duplicates()"
      ],
      "execution_count": 69,
      "outputs": []
    },
    {
      "cell_type": "code",
      "metadata": {
        "colab": {
          "base_uri": "https://localhost:8080/"
        },
        "id": "tiMW3jnGmATW",
        "outputId": "6c6f00b1-7aae-4cdf-cec2-fe70a2df57b9"
      },
      "source": [
        "print(len(df))"
      ],
      "execution_count": 70,
      "outputs": [
        {
          "output_type": "stream",
          "text": [
            "9972\n"
          ],
          "name": "stdout"
        }
      ]
    },
    {
      "cell_type": "code",
      "metadata": {
        "id": "n0LBMRMPnMl0"
      },
      "source": [
        "columns=[\"OSM\", \"Forest\", \"Precipitation1\",\"Precipitation2\", \"Damage\", \"Dams\"]\n",
        "\n",
        "Inputs = df.copy()[columns]\n",
        "Outputs = df.copy().Output_Label"
      ],
      "execution_count": 75,
      "outputs": []
    },
    {
      "cell_type": "code",
      "metadata": {
        "colab": {
          "base_uri": "https://localhost:8080/",
          "height": 204
        },
        "id": "p6P7AofXqb_Q",
        "outputId": "82d769df-44a8-4ff9-d6f1-168445d1af40"
      },
      "source": [
        "Inputs.head()"
      ],
      "execution_count": 76,
      "outputs": [
        {
          "output_type": "execute_result",
          "data": {
            "text/html": [
              "<div>\n",
              "<style scoped>\n",
              "    .dataframe tbody tr th:only-of-type {\n",
              "        vertical-align: middle;\n",
              "    }\n",
              "\n",
              "    .dataframe tbody tr th {\n",
              "        vertical-align: top;\n",
              "    }\n",
              "\n",
              "    .dataframe thead th {\n",
              "        text-align: right;\n",
              "    }\n",
              "</style>\n",
              "<table border=\"1\" class=\"dataframe\">\n",
              "  <thead>\n",
              "    <tr style=\"text-align: right;\">\n",
              "      <th></th>\n",
              "      <th>OSM</th>\n",
              "      <th>Forest</th>\n",
              "      <th>Precipitation1</th>\n",
              "      <th>Precipitation2</th>\n",
              "      <th>Damage</th>\n",
              "      <th>Dams</th>\n",
              "    </tr>\n",
              "  </thead>\n",
              "  <tbody>\n",
              "    <tr>\n",
              "      <th>0</th>\n",
              "      <td>1634</td>\n",
              "      <td>0</td>\n",
              "      <td>42.3</td>\n",
              "      <td>1.1</td>\n",
              "      <td>4000</td>\n",
              "      <td>19.272862</td>\n",
              "    </tr>\n",
              "    <tr>\n",
              "      <th>1</th>\n",
              "      <td>629</td>\n",
              "      <td>0</td>\n",
              "      <td>39.3</td>\n",
              "      <td>1.1</td>\n",
              "      <td>8000</td>\n",
              "      <td>4.803233</td>\n",
              "    </tr>\n",
              "    <tr>\n",
              "      <th>2</th>\n",
              "      <td>45</td>\n",
              "      <td>0</td>\n",
              "      <td>42.3</td>\n",
              "      <td>1.1</td>\n",
              "      <td>8000</td>\n",
              "      <td>23.426476</td>\n",
              "    </tr>\n",
              "    <tr>\n",
              "      <th>3</th>\n",
              "      <td>13</td>\n",
              "      <td>0</td>\n",
              "      <td>23.3</td>\n",
              "      <td>0.5</td>\n",
              "      <td>10000</td>\n",
              "      <td>17.060388</td>\n",
              "    </tr>\n",
              "    <tr>\n",
              "      <th>5</th>\n",
              "      <td>2</td>\n",
              "      <td>0</td>\n",
              "      <td>53.6</td>\n",
              "      <td>3.0</td>\n",
              "      <td>0</td>\n",
              "      <td>89.436491</td>\n",
              "    </tr>\n",
              "  </tbody>\n",
              "</table>\n",
              "</div>"
            ],
            "text/plain": [
              "    OSM  Forest  Precipitation1  Precipitation2  Damage       Dams\n",
              "0  1634       0            42.3             1.1    4000  19.272862\n",
              "1   629       0            39.3             1.1    8000   4.803233\n",
              "2    45       0            42.3             1.1    8000  23.426476\n",
              "3    13       0            23.3             0.5   10000  17.060388\n",
              "5     2       0            53.6             3.0       0  89.436491"
            ]
          },
          "metadata": {
            "tags": []
          },
          "execution_count": 76
        }
      ]
    },
    {
      "cell_type": "code",
      "metadata": {
        "colab": {
          "base_uri": "https://localhost:8080/"
        },
        "id": "o0PFZwK3z60m",
        "outputId": "41352f22-2554-4aee-b845-de49dbc81644"
      },
      "source": [
        "Outputs.head()"
      ],
      "execution_count": 77,
      "outputs": [
        {
          "output_type": "execute_result",
          "data": {
            "text/plain": [
              "0    1\n",
              "1    1\n",
              "2    1\n",
              "3    1\n",
              "5    1\n",
              "Name: Output_Label, dtype: int64"
            ]
          },
          "metadata": {
            "tags": []
          },
          "execution_count": 77
        }
      ]
    },
    {
      "cell_type": "code",
      "metadata": {
        "id": "QqgV7dYkqdlR"
      },
      "source": [
        "X_train, X_test, y_train, y_test = train_test_split(Inputs, Outputs, test_size = 0.2)\n",
        "\n",
        "scaler = StandardScaler()\n",
        "scaler.fit(X_train)\n",
        "\n",
        "X_train = scaler.transform(X_train)\n",
        "X_test = scaler.transform(X_test)"
      ],
      "execution_count": 78,
      "outputs": []
    },
    {
      "cell_type": "code",
      "metadata": {
        "colab": {
          "base_uri": "https://localhost:8080/"
        },
        "id": "FDY-fuyLqhr9",
        "outputId": "ca9ffea2-b146-4770-f0db-f9d5aae55398"
      },
      "source": [
        "model = RandomForestClassifier()\n",
        "model.fit(X_train, y_train)"
      ],
      "execution_count": 82,
      "outputs": [
        {
          "output_type": "execute_result",
          "data": {
            "text/plain": [
              "RandomForestClassifier(bootstrap=True, ccp_alpha=0.0, class_weight=None,\n",
              "                       criterion='gini', max_depth=None, max_features='auto',\n",
              "                       max_leaf_nodes=None, max_samples=None,\n",
              "                       min_impurity_decrease=0.0, min_impurity_split=None,\n",
              "                       min_samples_leaf=1, min_samples_split=2,\n",
              "                       min_weight_fraction_leaf=0.0, n_estimators=100,\n",
              "                       n_jobs=None, oob_score=False, random_state=None,\n",
              "                       verbose=0, warm_start=False)"
            ]
          },
          "metadata": {
            "tags": []
          },
          "execution_count": 82
        }
      ]
    },
    {
      "cell_type": "code",
      "metadata": {
        "colab": {
          "base_uri": "https://localhost:8080/"
        },
        "id": "T65blID2qivA",
        "outputId": "20ef2ee9-37d2-458c-e9fe-a0bcc7b6f82a"
      },
      "source": [
        "pred = model.predict(X_test)\n",
        "print(\"Model Accuracy:\", accuracy_score(pred, y_test))"
      ],
      "execution_count": 83,
      "outputs": [
        {
          "output_type": "stream",
          "text": [
            "Model Accuracy: 0.9764411027568922\n"
          ],
          "name": "stdout"
        }
      ]
    },
    {
      "cell_type": "code",
      "metadata": {
        "colab": {
          "base_uri": "https://localhost:8080/"
        },
        "id": "Qpn8B-_sqj22",
        "outputId": "36834e81-4395-44b1-d581-49c10273f94e"
      },
      "source": [
        "pred = model.predict(X_test)\n",
        "print(accuracy_score(pred, y_test))\n",
        "ConfusionMatrix = confusion_matrix(y_test, pred, normalize='true')\n",
        "print(ConfusionMatrix)"
      ],
      "execution_count": 88,
      "outputs": [
        {
          "output_type": "stream",
          "text": [
            "0.9764411027568922\n",
            "[[0.97802198 0.02197802]\n",
            " [0.02515091 0.97484909]]\n"
          ],
          "name": "stdout"
        }
      ]
    },
    {
      "cell_type": "code",
      "metadata": {
        "colab": {
          "base_uri": "https://localhost:8080/",
          "height": 282
        },
        "id": "seAE6YssqmE0",
        "outputId": "1498dc48-c3d1-4c86-f450-2c112553a87c"
      },
      "source": [
        "df_cm = pd.DataFrame(ConfusionMatrix, index = [i for i in \"AB\"],\n",
        "                  columns = [i for i in \"AB\"])\n",
        "sn.heatmap(df_cm, annot=True)"
      ],
      "execution_count": 90,
      "outputs": [
        {
          "output_type": "execute_result",
          "data": {
            "text/plain": [
              "<matplotlib.axes._subplots.AxesSubplot at 0x7ff14a2c5810>"
            ]
          },
          "metadata": {
            "tags": []
          },
          "execution_count": 90
        },
        {
          "output_type": "display_data",
          "data": {
            "image/png": "[encoded data removed]",
            "text/plain": [
              "<Figure size 432x288 with 2 Axes>"
            ]
          },
          "metadata": {
            "tags": [],
            "needs_background": "light"
          }
        }
      ]
    },
    {
      "cell_type": "code",
      "metadata": {
        "id": "Tln-KxNA1uqj"
      },
      "source": [
        "pkl_filename = \"pickle_rfcmodel.pkl\"\n",
        "with open(pkl_filename, 'wb') as file:\n",
        "    pickle.dump(model, file)"
      ],
      "execution_count": 97,
      "outputs": []
    },
    {
      "cell_type": "code",
      "metadata": {
        "id": "Ykw3clh2qobK"
      },
      "source": [
        "lat = 34.012\n",
        "lon = -81.012"
      ],
      "execution_count": null,
      "outputs": []
    },
    {
      "cell_type": "code",
      "metadata": {
        "id": "X8lE4H21rGFo",
        "colab": {
          "base_uri": "https://localhost:8080/"
        },
        "outputId": "612b276a-907e-4f21-ac7d-c7175e5eed99"
      },
      "source": [
        "Closest = df.iloc[(df['Latitude']-lat + df['Longitude'] - lon).abs().argsort()[:10]]\n",
        "Mean_Values = Closest.mean()\n",
        "Inputs_to_model = Mean_Values[2:8]\n",
        "\n",
        "Prediction = model.predict([Inputs_to_model])\n",
        "print(Prediction)"
      ],
      "execution_count": 94,
      "outputs": [
        {
          "output_type": "stream",
          "text": [
            "[1]\n"
          ],
          "name": "stdout"
        }
      ]
    },
    {
      "cell_type": "code",
      "metadata": {
        "id": "ekERxFNv1qBg"
      },
      "source": [
        "with open(pkl_filename, 'rb') as file:\n",
        "    pickle_model = pickle.load(file)"
      ],
      "execution_count": 98,
      "outputs": []
    },
    {
      "cell_type": "code",
      "metadata": {
        "colab": {
          "base_uri": "https://localhost:8080/"
        },
        "id": "34c7zEBR10RA",
        "outputId": "d29bb6f3-d8d4-4c1b-a931-46b35355c346"
      },
      "source": [
        "pred = pickle_model.predict(X_test)\n",
        "print(\"Model Accuracy:\", accuracy_score(pred, y_test))"
      ],
      "execution_count": 101,
      "outputs": [
        {
          "output_type": "stream",
          "text": [
            "Model Accuracy: 0.9764411027568922\n"
          ],
          "name": "stdout"
        }
      ]
    },
    {
      "cell_type": "code",
      "metadata": {
        "id": "xdiHEcYQ16DT"
      },
      "source": [
        ""
      ],
      "execution_count": null,
      "outputs": []
    }
  ]
}